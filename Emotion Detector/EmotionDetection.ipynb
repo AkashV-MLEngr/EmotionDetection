{
 "cells": [
  {
   "cell_type": "markdown",
   "id": "7bbbe964",
   "metadata": {},
   "source": [
    "# Emotion Detection by Text using Natural Language Processing# Emotion Detection by Text using Natural Language Processing"
   ]
  },
  {
   "cell_type": "code",
   "execution_count": 1,
   "id": "656898a9",
   "metadata": {},
   "outputs": [],
   "source": [
    "# Import Libraries\n",
    "import pandas as pd\n",
    "# Cleaning the Text by Neattext Pa\n",
    "import neattext.functions as nt\n",
    "# split the data\n",
    "from sklearn.model_selection import train_test_split\n",
    "# Use Machine Learning Model\n",
    "from sklearn.naive_bayes import MultinomialNB\n",
    "from sklearn.feature_extraction.text import CountVectorizer\n",
    "from sklearn.metrics import accuracy_score,classification_report,confusion_matrix\n",
    "# Build Pipeline\n",
    "from sklearn.pipeline import Pipeline"
   ]
  },
  {
   "cell_type": "code",
   "execution_count": 2,
   "id": "679cd5b8",
   "metadata": {},
   "outputs": [],
   "source": [
    "# Read Dataset\n",
    "df=pd.read_csv(\"emotion.csv\")"
   ]
  },
  {
   "cell_type": "code",
   "execution_count": 3,
   "id": "c9586d43",
   "metadata": {},
   "outputs": [],
   "source": [
    "df[\"Clean_text\"]=df[\"Text\"].apply(nt.remove_userhandles)  # To Remove Userhandles (#) Sign.\n",
    "df[\"Clean_text\"]=df[\"Clean_text\"].apply(nt.remove_stopwords) # To Remove Stopwords"
   ]
  },
  {
   "cell_type": "code",
   "execution_count": 4,
   "id": "90a37c0e",
   "metadata": {},
   "outputs": [],
   "source": [
    "# Features & Labels\n",
    "x = df['Clean_text']\n",
    "y = df['Emotion']"
   ]
  },
  {
   "cell_type": "code",
   "execution_count": 5,
   "id": "12195e06",
   "metadata": {},
   "outputs": [],
   "source": [
    "#  Split Data\n",
    "x_train,x_test,y_train,y_test = train_test_split(x,y,test_size=0.3,random_state=3)"
   ]
  },
  {
   "cell_type": "code",
   "execution_count": 6,
   "id": "4189edea",
   "metadata": {},
   "outputs": [],
   "source": [
    "# build the model\n",
    "model = Pipeline(steps=[('cv',CountVectorizer()),('lr',MultinomialNB())])\n",
    "# Train and Fit Data\n",
    "model.fit(x_train,y_train)\n",
    "Prediction = model.predict(x_test)"
   ]
  },
  {
   "cell_type": "code",
   "execution_count": 7,
   "id": "88bb90c0",
   "metadata": {},
   "outputs": [
    {
     "name": "stdout",
     "output_type": "stream",
     "text": [
      "Accuracy score: 0.5721402567541675\n"
     ]
    }
   ],
   "source": [
    "# Check Accuracy\n",
    "print('Accuracy score:',model.score(x_test,y_test))"
   ]
  },
  {
   "cell_type": "code",
   "execution_count": 8,
   "id": "728afeda",
   "metadata": {},
   "outputs": [
    {
     "data": {
      "text/plain": [
       "('Prediction: ', array(['joy'], dtype='<U8'))"
      ]
     },
     "execution_count": 8,
     "metadata": {},
     "output_type": "execute_result"
    }
   ],
   "source": [
    "# Make A Prediction\n",
    "p = model.predict([\"I am food hungry\"])\n",
    "('Prediction: ', p)"
   ]
  }
 ],
 "metadata": {
  "kernelspec": {
   "display_name": "Python 3 (ipykernel)",
   "language": "python",
   "name": "python3"
  },
  "language_info": {
   "codemirror_mode": {
    "name": "ipython",
    "version": 3
   },
   "file_extension": ".py",
   "mimetype": "text/x-python",
   "name": "python",
   "nbconvert_exporter": "python",
   "pygments_lexer": "ipython3",
   "version": "3.11.0"
  }
 },
 "nbformat": 4,
 "nbformat_minor": 5
}
